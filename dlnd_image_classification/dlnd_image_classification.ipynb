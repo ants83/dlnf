{
 "cells": [
  {
   "cell_type": "markdown",
   "metadata": {
    "collapsed": true,
    "deletable": true,
    "editable": true
   },
   "source": [
    "# Image Classification\n",
    "In this project, you'll classify images from the [CIFAR-10 dataset](https://www.cs.toronto.edu/~kriz/cifar.html).  The dataset consists of airplanes, dogs, cats, and other objects. You'll preprocess the images, then train a convolutional neural network on all the samples. The images need to be normalized and the labels need to be one-hot encoded.  You'll get to apply what you learned and build a convolutional, max pooling, dropout, and fully connected layers.  At the end, you'll get to see your neural network's predictions on the sample images.\n",
    "## Get the Data\n",
    "Run the following cell to download the [CIFAR-10 dataset for python](https://www.cs.toronto.edu/~kriz/cifar-10-python.tar.gz)."
   ]
  },
  {
   "cell_type": "code",
   "execution_count": 1,
   "metadata": {
    "collapsed": false,
    "deletable": true,
    "editable": true
   },
   "outputs": [
    {
     "name": "stderr",
     "output_type": "stream",
     "text": [
      "CIFAR-10 Dataset: 171MB [00:43, 3.91MB/s]                              \n"
     ]
    },
    {
     "name": "stdout",
     "output_type": "stream",
     "text": [
      "All files found!\n"
     ]
    }
   ],
   "source": [
    "\"\"\"\n",
    "DON'T MODIFY ANYTHING IN THIS CELL THAT IS BELOW THIS LINE\n",
    "\"\"\"\n",
    "from urllib.request import urlretrieve\n",
    "from os.path import isfile, isdir\n",
    "from tqdm import tqdm\n",
    "import problem_unittests as tests\n",
    "import tarfile\n",
    "\n",
    "cifar10_dataset_folder_path = 'cifar-10-batches-py'\n",
    "\n",
    "# Use Floyd's cifar-10 dataset if present\n",
    "floyd_cifar10_location = '/input/cifar-10/python.tar.gz'\n",
    "if isfile(floyd_cifar10_location):\n",
    "    tar_gz_path = floyd_cifar10_location\n",
    "else:\n",
    "    tar_gz_path = 'cifar-10-python.tar.gz'\n",
    "\n",
    "class DLProgress(tqdm):\n",
    "    last_block = 0\n",
    "\n",
    "    def hook(self, block_num=1, block_size=1, total_size=None):\n",
    "        self.total = total_size\n",
    "        self.update((block_num - self.last_block) * block_size)\n",
    "        self.last_block = block_num\n",
    "\n",
    "if not isfile(tar_gz_path):\n",
    "    with DLProgress(unit='B', unit_scale=True, miniters=1, desc='CIFAR-10 Dataset') as pbar:\n",
    "        urlretrieve(\n",
    "            'https://www.cs.toronto.edu/~kriz/cifar-10-python.tar.gz',\n",
    "            tar_gz_path,\n",
    "            pbar.hook)\n",
    "\n",
    "if not isdir(cifar10_dataset_folder_path):\n",
    "    with tarfile.open(tar_gz_path) as tar:\n",
    "        tar.extractall()\n",
    "        tar.close()\n",
    "\n",
    "\n",
    "tests.test_folder_path(cifar10_dataset_folder_path)"
   ]
  },
  {
   "cell_type": "markdown",
   "metadata": {
    "deletable": true,
    "editable": true
   },
   "source": [
    "## Explore the Data\n",
    "The dataset is broken into batches to prevent your machine from running out of memory.  The CIFAR-10 dataset consists of 5 batches, named `data_batch_1`, `data_batch_2`, etc.. Each batch contains the labels and images that are one of the following:\n",
    "* airplane\n",
    "* automobile\n",
    "* bird\n",
    "* cat\n",
    "* deer\n",
    "* dog\n",
    "* frog\n",
    "* horse\n",
    "* ship\n",
    "* truck\n",
    "\n",
    "Understanding a dataset is part of making predictions on the data.  Play around with the code cell below by changing the `batch_id` and `sample_id`. The `batch_id` is the id for a batch (1-5). The `sample_id` is the id for a image and label pair in the batch.\n",
    "\n",
    "Ask yourself \"What are all possible labels?\", \"What is the range of values for the image data?\", \"Are the labels in order or random?\".  Answers to questions like these will help you preprocess the data and end up with better predictions."
   ]
  },
  {
   "cell_type": "code",
   "execution_count": 2,
   "metadata": {
    "collapsed": false,
    "deletable": true,
    "editable": true
   },
   "outputs": [
    {
     "name": "stdout",
     "output_type": "stream",
     "text": [
      "\n",
      "Stats of batch 1:\n",
      "Samples: 10000\n",
      "Label Counts: {0: 1005, 1: 974, 2: 1032, 3: 1016, 4: 999, 5: 937, 6: 1030, 7: 1001, 8: 1025, 9: 981}\n",
      "First 20 Labels: [6, 9, 9, 4, 1, 1, 2, 7, 8, 3, 4, 7, 7, 2, 9, 9, 9, 3, 2, 6]\n",
      "\n",
      "Example of Image 1:\n",
      "Image - Min Value: 5 Max Value: 254\n",
      "Image - Shape: (32, 32, 3)\n",
      "Label - Label Id: 9 Name: truck\n"
     ]
    },
    {
     "data": {
      "image/png": "[encoded data removed]",
      "text/plain": [
       "<matplotlib.figure.Figure at 0x11046e8d0>"
      ]
     },
     "metadata": {
      "image/png": {
       "height": 250,
       "width": 253
      }
     },
     "output_type": "display_data"
    }
   ],
   "source": [
    "%matplotlib inline\n",
    "%config InlineBackend.figure_format = 'retina'\n",
    "\n",
    "import helper\n",
    "import numpy as np\n",
    "\n",
    "# Explore the dataset\n",
    "batch_id = 1\n",
    "sample_id = 1\n",
    "helper.display_stats(cifar10_dataset_folder_path, batch_id, sample_id)"
   ]
  },
  {
   "cell_type": "markdown",
   "metadata": {
    "deletable": true,
    "editable": true
   },
   "source": [
    "## Implement Preprocess Functions\n",
    "### Normalize\n",
    "In the cell below, implement the `normalize` function to take in image data, `x`, and return it as a normalized Numpy array. The values should be in the range of 0 to 1, inclusive.  The return object should be the same shape as `x`."
   ]
  },
  {
   "cell_type": "code",
   "execution_count": 3,
   "metadata": {
    "collapsed": false,
    "deletable": true,
    "editable": true
   },
   "outputs": [
    {
     "name": "stdout",
     "output_type": "stream",
     "text": [
      "Tests Passed\n"
     ]
    }
   ],
   "source": [
    "def normalize(x):\n",
    "    \"\"\"\n",
    "    Normalize a list of sample image data in the range of 0 to 1\n",
    "    : x: List of image data.  The image shape is (32, 32, 3)\n",
    "    : return: Numpy array of normalize data\n",
    "    \"\"\"\n",
    "    # TODO: Implement Function\n",
    "    MAX_RGB_VALUE = 255.\n",
    "    return (x / MAX_RGB_VALUE)\n",
    "\n",
    "\n",
    "\"\"\"\n",
    "DON'T MODIFY ANYTHING IN THIS CELL THAT IS BELOW THIS LINE\n",
    "\"\"\"\n",
    "tests.test_normalize(normalize)"
   ]
  },
  {
   "cell_type": "markdown",
   "metadata": {
    "deletable": true,
    "editable": true
   },
   "source": [
    "### One-hot encode\n",
    "Just like the previous code cell, you'll be implementing a function for preprocessing.  This time, you'll implement the `one_hot_encode` function. The input, `x`, are a list of labels.  Implement the function to return the list of labels as One-Hot encoded Numpy array.  The possible values for labels are 0 to 9. The one-hot encoding function should return the same encoding for each value between each call to `one_hot_encode`.  Make sure to save the map of encodings outside the function.\n",
    "\n",
    "Hint: Don't reinvent the wheel."
   ]
  },
  {
   "cell_type": "code",
   "execution_count": 4,
   "metadata": {
    "collapsed": false,
    "deletable": true,
    "editable": true
   },
   "outputs": [
    {
     "name": "stdout",
     "output_type": "stream",
     "text": [
      "Tests Passed\n"
     ]
    }
   ],
   "source": [
    "def one_hot_encode(x):\n",
    "    \"\"\"\n",
    "    One hot encode a list of sample labels. Return a one-hot encoded vector for each label.\n",
    "    : x: List of sample Labels\n",
    "    : return: Numpy array of one-hot encoded labels\n",
    "    \"\"\"\n",
    "    # TODO: Implement Function\n",
    "    NUM_CLASSES = 10\n",
    "    xout = np.zeros((len(x), NUM_CLASSES))\n",
    "    xout[np.arange(len(x)), x] = 1\n",
    "    return xout\n",
    "\n",
    "\n",
    "\"\"\"\n",
    "DON'T MODIFY ANYTHING IN THIS CELL THAT IS BELOW THIS LINE\n",
    "\"\"\"\n",
    "tests.test_one_hot_encode(one_hot_encode)"
   ]
  },
  {
   "cell_type": "markdown",
   "metadata": {
    "deletable": true,
    "editable": true
   },
   "source": [
    "### Randomize Data\n",
    "As you saw from exploring the data above, the order of the samples are randomized.  It doesn't hurt to randomize it again, but you don't need to for this dataset."
   ]
  },
  {
   "cell_type": "markdown",
   "metadata": {
    "deletable": true,
    "editable": true
   },
   "source": [
    "## Preprocess all the data and save it\n",
    "Running the code cell below will preprocess all the CIFAR-10 data and save it to file. The code below also uses 10% of the training data for validation."
   ]
  },
  {
   "cell_type": "code",
   "execution_count": 5,
   "metadata": {
    "collapsed": false,
    "deletable": true,
    "editable": true
   },
   "outputs": [],
   "source": [
    "\"\"\"\n",
    "DON'T MODIFY ANYTHING IN THIS CELL\n",
    "\"\"\"\n",
    "# Preprocess Training, Validation, and Testing Data\n",
    "helper.preprocess_and_save_data(cifar10_dataset_folder_path, normalize, one_hot_encode)"
   ]
  },
  {
   "cell_type": "markdown",
   "metadata": {
    "deletable": true,
    "editable": true
   },
   "source": [
    "# Check Point\n",
    "This is your first checkpoint.  If you ever decide to come back to this notebook or have to restart the notebook, you can start from here.  The preprocessed data has been saved to disk."
   ]
  },
  {
   "cell_type": "code",
   "execution_count": 6,
   "metadata": {
    "collapsed": true,
    "deletable": true,
    "editable": true
   },
   "outputs": [],
   "source": [
    "\"\"\"\n",
    "DON'T MODIFY ANYTHING IN THIS CELL\n",
    "\"\"\"\n",
    "import pickle\n",
    "import problem_unittests as tests\n",
    "import helper\n",
    "\n",
    "# Load the Preprocessed Validation data\n",
    "valid_features, valid_labels = pickle.load(open('preprocess_validation.p', mode='rb'))"
   ]
  },
  {
   "cell_type": "markdown",
   "metadata": {
    "deletable": true,
    "editable": true
   },
   "source": [
    "## Build the network\n",
    "For the neural network, you'll build each layer into a function.  Most of the code you've seen has been outside of functions. To test your code more thoroughly, we require that you put each layer in a function.  This allows us to give you better feedback and test for simple mistakes using our unittests before you submit your project.\n",
    "\n",
    ">**Note:** If you're finding it hard to dedicate enough time for this course each week, we've provided a small shortcut to this part of the project. In the next couple of problems, you'll have the option to use classes from the [TensorFlow Layers](https://www.tensorflow.org/api_docs/python/tf/layers) or [TensorFlow Layers (contrib)](https://www.tensorflow.org/api_guides/python/contrib.layers) packages to build each layer, except the layers you build in the \"Convolutional and Max Pooling Layer\" section.  TF Layers is similar to Keras's and TFLearn's abstraction to layers, so it's easy to pickup.\n",
    "\n",
    ">However, if you would like to get the most out of this course, try to solve all the problems _without_ using anything from the TF Layers packages. You **can** still use classes from other packages that happen to have the same name as ones you find in TF Layers! For example, instead of using the TF Layers version of the `conv2d` class, [tf.layers.conv2d](https://www.tensorflow.org/api_docs/python/tf/layers/conv2d), you would want to use the TF Neural Network version of `conv2d`, [tf.nn.conv2d](https://www.tensorflow.org/api_docs/python/tf/nn/conv2d). \n",
    "\n",
    "Let's begin!\n",
    "\n",
    "### Input\n",
    "The neural network needs to read the image data, one-hot encoded labels, and dropout keep probability. Implement the following functions\n",
    "* Implement `neural_net_image_input`\n",
    " * Return a [TF Placeholder](https://www.tensorflow.org/api_docs/python/tf/placeholder)\n",
    " * Set the shape using `image_shape` with batch size set to `None`.\n",
    " * Name the TensorFlow placeholder \"x\" using the TensorFlow `name` parameter in the [TF Placeholder](https://www.tensorflow.org/api_docs/python/tf/placeholder).\n",
    "* Implement `neural_net_label_input`\n",
    " * Return a [TF Placeholder](https://www.tensorflow.org/api_docs/python/tf/placeholder)\n",
    " * Set the shape using `n_classes` with batch size set to `None`.\n",
    " * Name the TensorFlow placeholder \"y\" using the TensorFlow `name` parameter in the [TF Placeholder](https://www.tensorflow.org/api_docs/python/tf/placeholder).\n",
    "* Implement `neural_net_keep_prob_input`\n",
    " * Return a [TF Placeholder](https://www.tensorflow.org/api_docs/python/tf/placeholder) for dropout keep probability.\n",
    " * Name the TensorFlow placeholder \"keep_prob\" using the TensorFlow `name` parameter in the [TF Placeholder](https://www.tensorflow.org/api_docs/python/tf/placeholder).\n",
    "\n",
    "These names will be used at the end of the project to load your saved model.\n",
    "\n",
    "Note: `None` for shapes in TensorFlow allow for a dynamic size."
   ]
  },
  {
   "cell_type": "code",
   "execution_count": 7,
   "metadata": {
    "collapsed": false,
    "deletable": true,
    "editable": true
   },
   "outputs": [
    {
     "name": "stdout",
     "output_type": "stream",
     "text": [
      "Image Input Tests Passed.\n",
      "Label Input Tests Passed.\n",
      "Keep Prob Tests Passed.\n"
     ]
    }
   ],
   "source": [
    "import tensorflow as tf\n",
    "\n",
    "def neural_net_image_input(image_shape):\n",
    "    \"\"\"\n",
    "    Return a Tensor for a batch of image input\n",
    "    : image_shape: Shape of the images\n",
    "    : return: Tensor for image input.\n",
    "    \"\"\"\n",
    "    # TODO: Implement Function\n",
    "    return tf.placeholder(tf.float32, [None, image_shape[0], image_shape[1], image_shape[2]], name='x')\n",
    "\n",
    "\n",
    "def neural_net_label_input(n_classes):\n",
    "    \"\"\"\n",
    "    Return a Tensor for a batch of label input\n",
    "    : n_classes: Number of classes\n",
    "    : return: Tensor for label input.\n",
    "    \"\"\"\n",
    "    # TODO: Implement Function\n",
    "    return tf.placeholder(tf.float32, [None, n_classes], name='y')\n",
    "\n",
    "\n",
    "def neural_net_keep_prob_input():\n",
    "    \"\"\"\n",
    "    Return a Tensor for keep probability\n",
    "    : return: Tensor for keep probability.\n",
    "    \"\"\"\n",
    "    # TODO: Implement Function\n",
    "    return tf.placeholder(tf.float32, name='keep_prob')\n",
    "\n",
    "\n",
    "\"\"\"\n",
    "DON'T MODIFY ANYTHING IN THIS CELL THAT IS BELOW THIS LINE\n",
    "\"\"\"\n",
    "tf.reset_default_graph()\n",
    "tests.test_nn_image_inputs(neural_net_image_input)\n",
    "tests.test_nn_label_inputs(neural_net_label_input)\n",
    "tests.test_nn_keep_prob_inputs(neural_net_keep_prob_input)"
   ]
  },
  {
   "cell_type": "markdown",
   "metadata": {
    "deletable": true,
    "editable": true
   },
   "source": [
    "### Convolution and Max Pooling Layer\n",
    "Convolution layers have a lot of success with images. For this code cell, you should implement the function `conv2d_maxpool` to apply convolution then max pooling:\n",
    "* Create the weight and bias using `conv_ksize`, `conv_num_outputs` and the shape of `x_tensor`.\n",
    "* Apply a convolution to `x_tensor` using weight and `conv_strides`.\n",
    " * We recommend you use same padding, but you're welcome to use any padding.\n",
    "* Add bias\n",
    "* Add a nonlinear activation to the convolution.\n",
    "* Apply Max Pooling using `pool_ksize` and `pool_strides`.\n",
    " * We recommend you use same padding, but you're welcome to use any padding.\n",
    "\n",
    "**Note:** You **can't** use [TensorFlow Layers](https://www.tensorflow.org/api_docs/python/tf/layers) or [TensorFlow Layers (contrib)](https://www.tensorflow.org/api_guides/python/contrib.layers) for **this** layer, but you can still use TensorFlow's [Neural Network](https://www.tensorflow.org/api_docs/python/tf/nn) package. You may still use the shortcut option for all the **other** layers."
   ]
  },
  {
   "cell_type": "code",
   "execution_count": 8,
   "metadata": {
    "collapsed": false,
    "deletable": true,
    "editable": true
   },
   "outputs": [
    {
     "name": "stdout",
     "output_type": "stream",
     "text": [
      "Tests Passed\n"
     ]
    }
   ],
   "source": [
    "def conv2d_maxpool(x_tensor, conv_num_outputs, conv_ksize, conv_strides, pool_ksize, pool_strides):\n",
    "    \"\"\"\n",
    "    Apply convolution then max pooling to x_tensor\n",
    "    :param x_tensor: TensorFlow Tensor\n",
    "    :param conv_num_outputs: Number of outputs for the convolutional layer\n",
    "    :param conv_ksize: kernal size 2-D Tuple for the convolutional layer\n",
    "    :param conv_strides: Stride 2-D Tuple for convolution\n",
    "    :param pool_ksize: kernal size 2-D Tuple for pool\n",
    "    :param pool_strides: Stride 2-D Tuple for pool\n",
    "    : return: A tensor that represents convolution and max pooling of x_tensor\n",
    "    \"\"\"\n",
    "    # TODO: Implement Function\n",
    "    \n",
    "    # Variables for weights and biases\n",
    "    n_channels = x_tensor.get_shape().as_list()[3]\n",
    "    \n",
    "    W = tf.Variable(tf.random_normal([conv_ksize[0], conv_ksize[1], n_channels, conv_num_outputs], stddev=0.1))\n",
    "    b = tf.Variable(tf.zeros([conv_num_outputs]))\n",
    "    \n",
    "    # 2-D Convolution\n",
    "    output = tf.nn.conv2d(x_tensor, W, strides=[1, conv_strides[0], conv_strides[1], 1], padding='SAME')\n",
    "    \n",
    "    # Bias adding\n",
    "    output = tf.nn.bias_add(output, b)\n",
    "    \n",
    "    # ReLu\n",
    "    output = tf.nn.relu(output)\n",
    "    \n",
    "    # Max Pooling\n",
    "    output = tf.nn.max_pool(output,\n",
    "                            ksize=[1, pool_ksize[0], pool_ksize[1], 1],\n",
    "                            strides=[1, pool_strides[0], pool_strides[1], 1],\n",
    "                            padding='SAME')\n",
    "    \n",
    "    return output \n",
    "\n",
    "\n",
    "\"\"\"\n",
    "DON'T MODIFY ANYTHING IN THIS CELL THAT IS BELOW THIS LINE\n",
    "\"\"\"\n",
    "tests.test_con_pool(conv2d_maxpool)"
   ]
  },
  {
   "cell_type": "markdown",
   "metadata": {
    "deletable": true,
    "editable": true
   },
   "source": [
    "### Flatten Layer\n",
    "Implement the `flatten` function to change the dimension of `x_tensor` from a 4-D tensor to a 2-D tensor.  The output should be the shape (*Batch Size*, *Flattened Image Size*). Shortcut option: you can use classes from the [TensorFlow Layers](https://www.tensorflow.org/api_docs/python/tf/layers) or [TensorFlow Layers (contrib)](https://www.tensorflow.org/api_guides/python/contrib.layers) packages for this layer. For more of a challenge, only use other TensorFlow packages."
   ]
  },
  {
   "cell_type": "code",
   "execution_count": 9,
   "metadata": {
    "collapsed": false,
    "deletable": true,
    "editable": true
   },
   "outputs": [
    {
     "name": "stdout",
     "output_type": "stream",
     "text": [
      "Tests Passed\n"
     ]
    }
   ],
   "source": [
    "def flatten(x_tensor):\n",
    "    \"\"\"\n",
    "    Flatten x_tensor to (Batch Size, Flattened Image Size)\n",
    "    : x_tensor: A tensor of size (Batch Size, ...), where ... are the image dimensions.\n",
    "    : return: A tensor of size (Batch Size, Flattened Image Size).\n",
    "    \"\"\"\n",
    "    # TODO: Implement Function\n",
    "    import numpy as np\n",
    "    \n",
    "    tensor_shape = x_tensor.get_shape().as_list()\n",
    "    \n",
    "    flattened_size = np.prod(tensor_shape[1:])\n",
    "    \n",
    "    return tf.reshape(x_tensor, [-1, flattened_size])\n",
    "\n",
    "\n",
    "\"\"\"\n",
    "DON'T MODIFY ANYTHING IN THIS CELL THAT IS BELOW THIS LINE\n",
    "\"\"\"\n",
    "tests.test_flatten(flatten)"
   ]
  },
  {
   "cell_type": "markdown",
   "metadata": {
    "deletable": true,
    "editable": true
   },
   "source": [
    "### Fully-Connected Layer\n",
    "Implement the `fully_conn` function to apply a fully connected layer to `x_tensor` with the shape (*Batch Size*, *num_outputs*). Shortcut option: you can use classes from the [TensorFlow Layers](https://www.tensorflow.org/api_docs/python/tf/layers) or [TensorFlow Layers (contrib)](https://www.tensorflow.org/api_guides/python/contrib.layers) packages for this layer. For more of a challenge, only use other TensorFlow packages."
   ]
  },
  {
   "cell_type": "code",
   "execution_count": 10,
   "metadata": {
    "collapsed": false,
    "deletable": true,
    "editable": true
   },
   "outputs": [
    {
     "name": "stdout",
     "output_type": "stream",
     "text": [
      "Tests Passed\n"
     ]
    }
   ],
   "source": [
    "def fully_conn(x_tensor, num_outputs):\n",
    "    \"\"\"\n",
    "    Apply a fully connected layer to x_tensor using weight and bias\n",
    "    : x_tensor: A 2-D tensor where the first dimension is batch size.\n",
    "    : num_outputs: The number of output that the new tensor should be.\n",
    "    : return: A 2-D tensor where the second dimension is num_outputs.\n",
    "    \"\"\"\n",
    "    # TODO: Implement Function\n",
    "    \n",
    "    flattened_size = x_tensor.get_shape().as_list()[1]\n",
    "    \n",
    "    W = tf.Variable(tf.random_normal([flattened_size, num_outputs], stddev=0.1))\n",
    "    b = tf.Variable(tf.zeros([num_outputs]))\n",
    "    \n",
    "    fc = tf.add(tf.matmul(x_tensor, W), b)\n",
    "    fc = tf.nn.relu(fc)\n",
    "    \n",
    "    return fc\n",
    "\n",
    "\n",
    "\"\"\"\n",
    "DON'T MODIFY ANYTHING IN THIS CELL THAT IS BELOW THIS LINE\n",
    "\"\"\"\n",
    "tests.test_fully_conn(fully_conn)"
   ]
  },
  {
   "cell_type": "markdown",
   "metadata": {
    "deletable": true,
    "editable": true
   },
   "source": [
    "### Output Layer\n",
    "Implement the `output` function to apply a fully connected layer to `x_tensor` with the shape (*Batch Size*, *num_outputs*). Shortcut option: you can use classes from the [TensorFlow Layers](https://www.tensorflow.org/api_docs/python/tf/layers) or [TensorFlow Layers (contrib)](https://www.tensorflow.org/api_guides/python/contrib.layers) packages for this layer. For more of a challenge, only use other TensorFlow packages.\n",
    "\n",
    "**Note:** Activation, softmax, or cross entropy should **not** be applied to this."
   ]
  },
  {
   "cell_type": "code",
   "execution_count": 11,
   "metadata": {
    "collapsed": false,
    "deletable": true,
    "editable": true
   },
   "outputs": [
    {
     "name": "stdout",
     "output_type": "stream",
     "text": [
      "Tests Passed\n"
     ]
    }
   ],
   "source": [
    "def output(x_tensor, num_outputs):\n",
    "    \"\"\"\n",
    "    Apply a output layer to x_tensor using weight and bias\n",
    "    : x_tensor: A 2-D tensor where the first dimension is batch size.\n",
    "    : num_outputs: The number of output that the new tensor should be.\n",
    "    : return: A 2-D tensor where the second dimension is num_outputs.\n",
    "    \"\"\"\n",
    "    # TODO: Implement Function\n",
    "    flattened_size = x_tensor.get_shape().as_list()[1]\n",
    "    \n",
    "    W = tf.Variable(tf.random_normal([flattened_size, num_outputs], stddev=0.1))\n",
    "    b = tf.Variable(tf.zeros([num_outputs]))\n",
    "    \n",
    "    fc = tf.add(tf.matmul(x_tensor, W), b)\n",
    "    \n",
    "    return fc\n",
    "\n",
    "\n",
    "\"\"\"\n",
    "DON'T MODIFY ANYTHING IN THIS CELL THAT IS BELOW THIS LINE\n",
    "\"\"\"\n",
    "tests.test_output(output)"
   ]
  },
  {
   "cell_type": "markdown",
   "metadata": {
    "deletable": true,
    "editable": true
   },
   "source": [
    "### Create Convolutional Model\n",
    "Implement the function `conv_net` to create a convolutional neural network model. The function takes in a batch of images, `x`, and outputs logits.  Use the layers you created above to create this model:\n",
    "\n",
    "* Apply 1, 2, or 3 Convolution and Max Pool layers\n",
    "* Apply a Flatten Layer\n",
    "* Apply 1, 2, or 3 Fully Connected Layers\n",
    "* Apply an Output Layer\n",
    "* Return the output\n",
    "* Apply [TensorFlow's Dropout](https://www.tensorflow.org/api_docs/python/tf/nn/dropout) to one or more layers in the model using `keep_prob`. "
   ]
  },
  {
   "cell_type": "code",
   "execution_count": 12,
   "metadata": {
    "collapsed": false,
    "deletable": true,
    "editable": true
   },
   "outputs": [
    {
     "name": "stdout",
     "output_type": "stream",
     "text": [
      "Neural Network Built!\n"
     ]
    }
   ],
   "source": [
    "def conv_net(x, keep_prob):\n",
    "    \"\"\"\n",
    "    Create a convolutional neural network model\n",
    "    : x: Placeholder tensor that holds image data.\n",
    "    : keep_prob: Placeholder tensor that hold dropout keep probability.\n",
    "    : return: Tensor that represents logits\n",
    "    \"\"\"\n",
    "    # TODO: Apply 1, 2, or 3 Convolution and Max Pool layers\n",
    "    #    Play around with different number of outputs, kernel size and stride\n",
    "    # Function Definition from Above:\n",
    "    #    conv2d_maxpool(x_tensor, conv_num_outputs, conv_ksize, conv_strides, pool_ksize, pool_strides)\n",
    "      \n",
    "    # Layer 1\n",
    "    \n",
    "    n_outputs_1 = 32\n",
    "    conv_ksize_1 = (3, 3)\n",
    "    conv_strides_1 = (1, 1)\n",
    "    pool_ksize_1 = (2, 2)\n",
    "    pool_strides_1 = (2, 2)\n",
    "\n",
    "    cm1 = conv2d_maxpool(x, n_outputs_1, conv_ksize_1, conv_strides_1, pool_ksize_1, pool_strides_1)\n",
    "    \n",
    "    # Layer 2\n",
    "    \n",
    "    n_outputs_2 = 64\n",
    "    conv_ksize_2 = (3, 3)\n",
    "    conv_strides_2 = (1, 1)\n",
    "    pool_ksize_2 = (2, 2)\n",
    "    pool_strides_2 = (2, 2)\n",
    "\n",
    "    cm2 = conv2d_maxpool(cm1, n_outputs_2, conv_ksize_2, conv_strides_2, pool_ksize_2, pool_strides_2)\n",
    "    \n",
    "    n_outputs_3 = 128\n",
    "    conv_ksize_3 = (3, 3)\n",
    "    conv_strides_3 = (1, 1)\n",
    "    pool_ksize_3 = (2, 2)\n",
    "    pool_strides_3 = (2, 2)\n",
    "\n",
    "    cm3 = conv2d_maxpool(cm2, n_outputs_3, conv_ksize_3, conv_strides_3, pool_ksize_3, pool_strides_3)\n",
    "    cm3 = tf.nn.dropout(cm3, keep_prob)\n",
    "\n",
    "    # TODO: Apply a Flatten Layer\n",
    "    # Function Definition from Above:\n",
    "    #   flatten(x_tensor)\n",
    "    \n",
    "    f4 = flatten(cm3)\n",
    "    \n",
    "    # TODO: Apply 1, 2, or 3 Fully Connected Layers\n",
    "    #    Play around with different number of outputs\n",
    "    # Function Definition from Above:\n",
    "    #   fully_conn(x_tensor, num_outputs)\n",
    "    \n",
    "    fc5 = fully_conn(f4, 512)\n",
    "    fc5 = tf.nn.dropout(fc5, keep_prob)\n",
    "        \n",
    "    # TODO: Apply an Output Layer\n",
    "    #    Set this to the number of classes\n",
    "    # Function Definition from Above:\n",
    "    #   output(x_tensor, num_outputs)\n",
    "    o6 = output(fc5, 10)\n",
    "    \n",
    "    # TODO: return output\n",
    "    return o6\n",
    "\n",
    "\n",
    "\"\"\"\n",
    "DON'T MODIFY ANYTHING IN THIS CELL THAT IS BELOW THIS LINE\n",
    "\"\"\"\n",
    "\n",
    "##############################\n",
    "## Build the Neural Network ##\n",
    "##############################\n",
    "\n",
    "# Remove previous weights, bias, inputs, etc..\n",
    "tf.reset_default_graph()\n",
    "\n",
    "# Inputs\n",
    "x = neural_net_image_input((32, 32, 3))\n",
    "y = neural_net_label_input(10)\n",
    "keep_prob = neural_net_keep_prob_input()\n",
    "\n",
    "# Model\n",
    "logits = conv_net(x, keep_prob)\n",
    "\n",
    "# Name logits Tensor, so that is can be loaded from disk after training\n",
    "logits = tf.identity(logits, name='logits')\n",
    "\n",
    "# Loss and Optimizer\n",
    "cost = tf.reduce_mean(tf.nn.softmax_cross_entropy_with_logits(logits=logits, labels=y))\n",
    "optimizer = tf.train.AdamOptimizer().minimize(cost)\n",
    "\n",
    "# Accuracy\n",
    "correct_pred = tf.equal(tf.argmax(logits, 1), tf.argmax(y, 1))\n",
    "accuracy = tf.reduce_mean(tf.cast(correct_pred, tf.float32), name='accuracy')\n",
    "\n",
    "tests.test_conv_net(conv_net)"
   ]
  },
  {
   "cell_type": "code",
   "execution_count": 13,
   "metadata": {
    "collapsed": true,
    "deletable": true,
    "editable": true
   },
   "outputs": [],
   "source": [
    "# Training Error (Added by my to detect overfitting)\n",
    "\n",
    "correct_pred_train = tf.equal(tf.argmax(logits, 1), tf.argmax(y, 1))\n",
    "accuracy_train = tf.reduce_mean(tf.cast(correct_pred_train, tf.float32), name='training_error')"
   ]
  },
  {
   "cell_type": "markdown",
   "metadata": {
    "deletable": true,
    "editable": true
   },
   "source": [
    "## Train the Neural Network\n",
    "### Single Optimization\n",
    "Implement the function `train_neural_network` to do a single optimization.  The optimization should use `optimizer` to optimize in `session` with a `feed_dict` of the following:\n",
    "* `x` for image input\n",
    "* `y` for labels\n",
    "* `keep_prob` for keep probability for dropout\n",
    "\n",
    "This function will be called for each batch, so `tf.global_variables_initializer()` has already been called.\n",
    "\n",
    "Note: Nothing needs to be returned. This function is only optimizing the neural network."
   ]
  },
  {
   "cell_type": "code",
   "execution_count": 14,
   "metadata": {
    "collapsed": false,
    "deletable": true,
    "editable": true
   },
   "outputs": [
    {
     "name": "stdout",
     "output_type": "stream",
     "text": [
      "Tests Passed\n"
     ]
    }
   ],
   "source": [
    "def train_neural_network(session, optimizer, keep_probability, feature_batch, label_batch):\n",
    "    \"\"\"\n",
    "    Optimize the session on a batch of images and labels\n",
    "    : session: Current TensorFlow session\n",
    "    : optimizer: TensorFlow optimizer function\n",
    "    : keep_probability: keep probability\n",
    "    : feature_batch: Batch of Numpy image data\n",
    "    : label_batch: Batch of Numpy label data\n",
    "    \"\"\"\n",
    "    # TODO: Implement Function\n",
    "    session.run(optimizer, feed_dict={x: feature_batch,\n",
    "                                      y: label_batch,\n",
    "                                      keep_prob: keep_probability})\n",
    "\n",
    "\n",
    "\"\"\"\n",
    "DON'T MODIFY ANYTHING IN THIS CELL THAT IS BELOW THIS LINE\n",
    "\"\"\"\n",
    "tests.test_train_nn(train_neural_network)"
   ]
  },
  {
   "cell_type": "markdown",
   "metadata": {
    "deletable": true,
    "editable": true
   },
   "source": [
    "### Show Stats\n",
    "Implement the function `print_stats` to print loss and validation accuracy.  Use the global variables `valid_features` and `valid_labels` to calculate validation accuracy.  Use a keep probability of `1.0` to calculate the loss and validation accuracy."
   ]
  },
  {
   "cell_type": "code",
   "execution_count": 15,
   "metadata": {
    "collapsed": false,
    "deletable": true,
    "editable": true
   },
   "outputs": [],
   "source": [
    "def print_stats(session, feature_batch, label_batch, cost, accuracy):\n",
    "    \"\"\"\n",
    "    Print information about loss and validation accuracy\n",
    "    : session: Current TensorFlow session\n",
    "    : feature_batch: Batch of Numpy image data\n",
    "    : label_batch: Batch of Numpy label data\n",
    "    : cost: TensorFlow cost function\n",
    "    : accuracy: TensorFlow accuracy function\n",
    "    \"\"\"\n",
    "    # TODO: Implement Function\n",
    "    loss = sess.run(cost, feed_dict={x: feature_batch,\n",
    "                                     y: label_batch,\n",
    "                                     keep_prob: 1.0})\n",
    "        \n",
    "    valid_acc = sess.run(accuracy, feed_dict={x: valid_features,\n",
    "                                              y: valid_labels,\n",
    "                                              keep_prob: 1.0})\n",
    "    \n",
    "    # In addition to validation accuracy this function prints training accuracy\n",
    "    train_acc = sess.run(accuracy_train, feed_dict={x: feature_batch,\n",
    "                                                    y: label_batch,\n",
    "                                                    keep_prob: 1.0})\n",
    "    \n",
    "    print('Loss: {:>5.4f}, Training Accuracy: {:.6f}, '\n",
    "          'Validation Accuracy: {:.6f}'.format(loss, train_acc, valid_acc))"
   ]
  },
  {
   "cell_type": "markdown",
   "metadata": {
    "deletable": true,
    "editable": true
   },
   "source": [
    "### Hyperparameters\n",
    "Tune the following parameters:\n",
    "* Set `epochs` to the number of iterations until the network stops learning or start overfitting\n",
    "* Set `batch_size` to the highest number that your machine has memory for.  Most people set them to common sizes of memory:\n",
    " * 64\n",
    " * 128\n",
    " * 256\n",
    " * ...\n",
    "* Set `keep_probability` to the probability of keeping a node using dropout"
   ]
  },
  {
   "cell_type": "code",
   "execution_count": 17,
   "metadata": {
    "collapsed": true,
    "deletable": true,
    "editable": true
   },
   "outputs": [],
   "source": [
    "# TODO: Tune Parameters\n",
    "epochs = 32\n",
    "batch_size = 256\n",
    "keep_probability = 0.4"
   ]
  },
  {
   "cell_type": "markdown",
   "metadata": {
    "deletable": true,
    "editable": true
   },
   "source": [
    "### Train on a Single CIFAR-10 Batch\n",
    "Instead of training the neural network on all the CIFAR-10 batches of data, let's use a single batch. This should save time while you iterate on the model to get a better accuracy.  Once the final validation accuracy is 50% or greater, run the model on all the data in the next section."
   ]
  },
  {
   "cell_type": "code",
   "execution_count": 18,
   "metadata": {
    "collapsed": false,
    "deletable": true,
    "editable": true
   },
   "outputs": [
    {
     "name": "stdout",
     "output_type": "stream",
     "text": [
      "Checking the Training on a Single Batch...\n",
      "Epoch  1, CIFAR-10 Batch 1:  Loss: 2.2093, Training Accuracy: 0.250000, Validation Accuracy: 0.197800\n",
      "Epoch  2, CIFAR-10 Batch 1:  Loss: 2.0493, Training Accuracy: 0.375000, Validation Accuracy: 0.339800\n",
      "Epoch  3, CIFAR-10 Batch 1:  Loss: 1.8721, Training Accuracy: 0.400000, Validation Accuracy: 0.377800\n",
      "Epoch  4, CIFAR-10 Batch 1:  Loss: 1.7608, Training Accuracy: 0.500000, Validation Accuracy: 0.403800\n",
      "Epoch  5, CIFAR-10 Batch 1:  Loss: 1.6769, Training Accuracy: 0.550000, Validation Accuracy: 0.417800\n",
      "Epoch  6, CIFAR-10 Batch 1:  Loss: 1.5908, Training Accuracy: 0.525000, Validation Accuracy: 0.433200\n",
      "Epoch  7, CIFAR-10 Batch 1:  Loss: 1.5244, Training Accuracy: 0.625000, Validation Accuracy: 0.446200\n",
      "Epoch  8, CIFAR-10 Batch 1:  Loss: 1.4333, Training Accuracy: 0.625000, Validation Accuracy: 0.455600\n",
      "Epoch  9, CIFAR-10 Batch 1:  Loss: 1.3386, Training Accuracy: 0.650000, Validation Accuracy: 0.470600\n",
      "Epoch 10, CIFAR-10 Batch 1:  Loss: 1.2845, Training Accuracy: 0.675000, Validation Accuracy: 0.483600\n",
      "Epoch 11, CIFAR-10 Batch 1:  Loss: 1.1959, Training Accuracy: 0.725000, Validation Accuracy: 0.492400\n",
      "Epoch 12, CIFAR-10 Batch 1:  Loss: 1.1512, Training Accuracy: 0.725000, Validation Accuracy: 0.498000\n",
      "Epoch 13, CIFAR-10 Batch 1:  Loss: 1.0931, Training Accuracy: 0.750000, Validation Accuracy: 0.510000\n",
      "Epoch 14, CIFAR-10 Batch 1:  Loss: 1.0689, Training Accuracy: 0.725000, Validation Accuracy: 0.513800\n",
      "Epoch 15, CIFAR-10 Batch 1:  Loss: 1.0296, Training Accuracy: 0.750000, Validation Accuracy: 0.522200\n",
      "Epoch 16, CIFAR-10 Batch 1:  Loss: 0.9249, Training Accuracy: 0.775000, Validation Accuracy: 0.541800\n",
      "Epoch 17, CIFAR-10 Batch 1:  Loss: 0.8591, Training Accuracy: 0.800000, Validation Accuracy: 0.548200\n",
      "Epoch 18, CIFAR-10 Batch 1:  Loss: 0.8781, Training Accuracy: 0.750000, Validation Accuracy: 0.554400\n",
      "Epoch 19, CIFAR-10 Batch 1:  Loss: 0.7958, Training Accuracy: 0.775000, Validation Accuracy: 0.547000\n",
      "Epoch 20, CIFAR-10 Batch 1:  Loss: 0.7730, Training Accuracy: 0.800000, Validation Accuracy: 0.554400\n",
      "Epoch 21, CIFAR-10 Batch 1:  Loss: 0.7308, Training Accuracy: 0.800000, Validation Accuracy: 0.555800\n",
      "Epoch 22, CIFAR-10 Batch 1:  Loss: 0.6663, Training Accuracy: 0.900000, Validation Accuracy: 0.561800\n",
      "Epoch 23, CIFAR-10 Batch 1:  Loss: 0.6162, Training Accuracy: 0.850000, Validation Accuracy: 0.573600\n",
      "Epoch 24, CIFAR-10 Batch 1:  Loss: 0.5985, Training Accuracy: 0.875000, Validation Accuracy: 0.573000\n",
      "Epoch 25, CIFAR-10 Batch 1:  Loss: 0.5270, Training Accuracy: 0.875000, Validation Accuracy: 0.583400\n",
      "Epoch 26, CIFAR-10 Batch 1:  Loss: 0.5182, Training Accuracy: 0.875000, Validation Accuracy: 0.590600\n",
      "Epoch 27, CIFAR-10 Batch 1:  Loss: 0.4718, Training Accuracy: 0.875000, Validation Accuracy: 0.594600\n",
      "Epoch 28, CIFAR-10 Batch 1:  Loss: 0.4749, Training Accuracy: 0.875000, Validation Accuracy: 0.599800\n",
      "Epoch 29, CIFAR-10 Batch 1:  Loss: 0.4092, Training Accuracy: 0.875000, Validation Accuracy: 0.599600\n",
      "Epoch 30, CIFAR-10 Batch 1:  Loss: 0.3831, Training Accuracy: 0.900000, Validation Accuracy: 0.598600\n",
      "Epoch 31, CIFAR-10 Batch 1:  Loss: 0.3760, Training Accuracy: 0.900000, Validation Accuracy: 0.596800\n",
      "Epoch 32, CIFAR-10 Batch 1:  Loss: 0.3496, Training Accuracy: 0.900000, Validation Accuracy: 0.600200\n"
     ]
    }
   ],
   "source": [
    "\"\"\"\n",
    "DON'T MODIFY ANYTHING IN THIS CELL\n",
    "\"\"\"\n",
    "print('Checking the Training on a Single Batch...')\n",
    "with tf.Session() as sess:\n",
    "    # Initializing the variables\n",
    "    sess.run(tf.global_variables_initializer())\n",
    "    \n",
    "    # Training cycle\n",
    "    for epoch in range(epochs):\n",
    "        batch_i = 1\n",
    "        for batch_features, batch_labels in helper.load_preprocess_training_batch(batch_i, batch_size):\n",
    "            train_neural_network(sess, optimizer, keep_probability, batch_features, batch_labels)\n",
    "        print('Epoch {:>2}, CIFAR-10 Batch {}:  '.format(epoch + 1, batch_i), end='')\n",
    "        print_stats(sess, batch_features, batch_labels, cost, accuracy)"
   ]
  },
  {
   "cell_type": "markdown",
   "metadata": {
    "deletable": true,
    "editable": true
   },
   "source": [
    "### Fully Train the Model\n",
    "Now that you got a good accuracy with a single CIFAR-10 batch, try it with all five batches."
   ]
  },
  {
   "cell_type": "code",
   "execution_count": 19,
   "metadata": {
    "collapsed": false,
    "deletable": true,
    "editable": true,
    "scrolled": false
   },
   "outputs": [
    {
     "name": "stdout",
     "output_type": "stream",
     "text": [
      "Training...\n",
      "Epoch  1, CIFAR-10 Batch 1:  Loss: 2.2346, Training Accuracy: 0.225000, Validation Accuracy: 0.227800\n",
      "Epoch  1, CIFAR-10 Batch 2:  Loss: 2.0181, Training Accuracy: 0.300000, Validation Accuracy: 0.347000\n",
      "Epoch  1, CIFAR-10 Batch 3:  Loss: 1.7471, Training Accuracy: 0.400000, Validation Accuracy: 0.365400\n",
      "Epoch  1, CIFAR-10 Batch 4:  Loss: 1.6697, Training Accuracy: 0.450000, Validation Accuracy: 0.389400\n",
      "Epoch  1, CIFAR-10 Batch 5:  Loss: 1.5735, Training Accuracy: 0.425000, Validation Accuracy: 0.422000\n",
      "Epoch  2, CIFAR-10 Batch 1:  Loss: 1.6785, Training Accuracy: 0.450000, Validation Accuracy: 0.461000\n",
      "Epoch  2, CIFAR-10 Batch 2:  Loss: 1.4772, Training Accuracy: 0.475000, Validation Accuracy: 0.456800\n",
      "Epoch  2, CIFAR-10 Batch 3:  Loss: 1.2841, Training Accuracy: 0.450000, Validation Accuracy: 0.472800\n",
      "Epoch  2, CIFAR-10 Batch 4:  Loss: 1.3916, Training Accuracy: 0.525000, Validation Accuracy: 0.484400\n",
      "Epoch  2, CIFAR-10 Batch 5:  Loss: 1.3309, Training Accuracy: 0.550000, Validation Accuracy: 0.491800\n",
      "Epoch  3, CIFAR-10 Batch 1:  Loss: 1.4285, Training Accuracy: 0.550000, Validation Accuracy: 0.513800\n",
      "Epoch  3, CIFAR-10 Batch 2:  Loss: 1.2595, Training Accuracy: 0.550000, Validation Accuracy: 0.521600\n",
      "Epoch  3, CIFAR-10 Batch 3:  Loss: 1.0471, Training Accuracy: 0.675000, Validation Accuracy: 0.518400\n",
      "Epoch  3, CIFAR-10 Batch 4:  Loss: 1.2230, Training Accuracy: 0.600000, Validation Accuracy: 0.536000\n",
      "Epoch  3, CIFAR-10 Batch 5:  Loss: 1.2046, Training Accuracy: 0.575000, Validation Accuracy: 0.539000\n",
      "Epoch  4, CIFAR-10 Batch 1:  Loss: 1.2137, Training Accuracy: 0.625000, Validation Accuracy: 0.561800\n",
      "Epoch  4, CIFAR-10 Batch 2:  Loss: 1.2049, Training Accuracy: 0.550000, Validation Accuracy: 0.526600\n",
      "Epoch  4, CIFAR-10 Batch 3:  Loss: 0.9358, Training Accuracy: 0.700000, Validation Accuracy: 0.558000\n",
      "Epoch  4, CIFAR-10 Batch 4:  Loss: 1.0060, Training Accuracy: 0.675000, Validation Accuracy: 0.567400\n",
      "Epoch  4, CIFAR-10 Batch 5:  Loss: 1.1078, Training Accuracy: 0.600000, Validation Accuracy: 0.560000\n",
      "Epoch  5, CIFAR-10 Batch 1:  Loss: 1.0326, Training Accuracy: 0.675000, Validation Accuracy: 0.579200\n",
      "Epoch  5, CIFAR-10 Batch 2:  Loss: 1.0737, Training Accuracy: 0.600000, Validation Accuracy: 0.563600\n",
      "Epoch  5, CIFAR-10 Batch 3:  Loss: 0.7749, Training Accuracy: 0.775000, Validation Accuracy: 0.596000\n",
      "Epoch  5, CIFAR-10 Batch 4:  Loss: 0.8937, Training Accuracy: 0.725000, Validation Accuracy: 0.599800\n",
      "Epoch  5, CIFAR-10 Batch 5:  Loss: 0.9929, Training Accuracy: 0.675000, Validation Accuracy: 0.602600\n",
      "Epoch  6, CIFAR-10 Batch 1:  Loss: 0.9265, Training Accuracy: 0.675000, Validation Accuracy: 0.613000\n",
      "Epoch  6, CIFAR-10 Batch 2:  Loss: 0.9167, Training Accuracy: 0.550000, Validation Accuracy: 0.599600\n",
      "Epoch  6, CIFAR-10 Batch 3:  Loss: 0.7261, Training Accuracy: 0.750000, Validation Accuracy: 0.627000\n",
      "Epoch  6, CIFAR-10 Batch 4:  Loss: 0.8025, Training Accuracy: 0.750000, Validation Accuracy: 0.632400\n",
      "Epoch  6, CIFAR-10 Batch 5:  Loss: 0.8424, Training Accuracy: 0.750000, Validation Accuracy: 0.625600\n",
      "Epoch  7, CIFAR-10 Batch 1:  Loss: 0.8544, Training Accuracy: 0.750000, Validation Accuracy: 0.637400\n",
      "Epoch  7, CIFAR-10 Batch 2:  Loss: 0.7904, Training Accuracy: 0.725000, Validation Accuracy: 0.645600\n",
      "Epoch  7, CIFAR-10 Batch 3:  Loss: 0.6664, Training Accuracy: 0.850000, Validation Accuracy: 0.641800\n",
      "Epoch  7, CIFAR-10 Batch 4:  Loss: 0.7362, Training Accuracy: 0.725000, Validation Accuracy: 0.649400\n",
      "Epoch  7, CIFAR-10 Batch 5:  Loss: 0.7609, Training Accuracy: 0.825000, Validation Accuracy: 0.642200\n",
      "Epoch  8, CIFAR-10 Batch 1:  Loss: 0.8111, Training Accuracy: 0.725000, Validation Accuracy: 0.644200\n",
      "Epoch  8, CIFAR-10 Batch 2:  Loss: 0.7287, Training Accuracy: 0.675000, Validation Accuracy: 0.652600\n",
      "Epoch  8, CIFAR-10 Batch 3:  Loss: 0.5660, Training Accuracy: 0.875000, Validation Accuracy: 0.653400\n",
      "Epoch  8, CIFAR-10 Batch 4:  Loss: 0.6604, Training Accuracy: 0.775000, Validation Accuracy: 0.659400\n",
      "Epoch  8, CIFAR-10 Batch 5:  Loss: 0.6647, Training Accuracy: 0.850000, Validation Accuracy: 0.659600\n",
      "Epoch  9, CIFAR-10 Batch 1:  Loss: 0.7236, Training Accuracy: 0.825000, Validation Accuracy: 0.658200\n",
      "Epoch  9, CIFAR-10 Batch 2:  Loss: 0.6583, Training Accuracy: 0.750000, Validation Accuracy: 0.649400\n",
      "Epoch  9, CIFAR-10 Batch 3:  Loss: 0.5317, Training Accuracy: 0.875000, Validation Accuracy: 0.660000\n",
      "Epoch  9, CIFAR-10 Batch 4:  Loss: 0.6205, Training Accuracy: 0.825000, Validation Accuracy: 0.659400\n",
      "Epoch  9, CIFAR-10 Batch 5:  Loss: 0.5714, Training Accuracy: 0.900000, Validation Accuracy: 0.680000\n",
      "Epoch 10, CIFAR-10 Batch 1:  Loss: 0.6766, Training Accuracy: 0.800000, Validation Accuracy: 0.679000\n",
      "Epoch 10, CIFAR-10 Batch 2:  Loss: 0.5951, Training Accuracy: 0.875000, Validation Accuracy: 0.642400\n",
      "Epoch 10, CIFAR-10 Batch 3:  Loss: 0.5036, Training Accuracy: 0.900000, Validation Accuracy: 0.668800\n",
      "Epoch 10, CIFAR-10 Batch 4:  Loss: 0.5503, Training Accuracy: 0.825000, Validation Accuracy: 0.691200\n",
      "Epoch 10, CIFAR-10 Batch 5:  Loss: 0.5337, Training Accuracy: 0.900000, Validation Accuracy: 0.686600\n",
      "Epoch 11, CIFAR-10 Batch 1:  Loss: 0.6568, Training Accuracy: 0.775000, Validation Accuracy: 0.686200\n",
      "Epoch 11, CIFAR-10 Batch 2:  Loss: 0.4885, Training Accuracy: 0.900000, Validation Accuracy: 0.690800\n",
      "Epoch 11, CIFAR-10 Batch 3:  Loss: 0.4523, Training Accuracy: 0.900000, Validation Accuracy: 0.675800\n",
      "Epoch 11, CIFAR-10 Batch 4:  Loss: 0.5123, Training Accuracy: 0.850000, Validation Accuracy: 0.696800\n",
      "Epoch 11, CIFAR-10 Batch 5:  Loss: 0.5187, Training Accuracy: 0.850000, Validation Accuracy: 0.681600\n",
      "Epoch 12, CIFAR-10 Batch 1:  Loss: 0.5545, Training Accuracy: 0.850000, Validation Accuracy: 0.698200\n",
      "Epoch 12, CIFAR-10 Batch 2:  Loss: 0.4395, Training Accuracy: 0.925000, Validation Accuracy: 0.695800\n",
      "Epoch 12, CIFAR-10 Batch 3:  Loss: 0.4063, Training Accuracy: 0.900000, Validation Accuracy: 0.695400\n",
      "Epoch 12, CIFAR-10 Batch 4:  Loss: 0.4709, Training Accuracy: 0.850000, Validation Accuracy: 0.707200\n",
      "Epoch 12, CIFAR-10 Batch 5:  Loss: 0.4296, Training Accuracy: 0.950000, Validation Accuracy: 0.710600\n",
      "Epoch 13, CIFAR-10 Batch 1:  Loss: 0.5049, Training Accuracy: 0.825000, Validation Accuracy: 0.704200\n",
      "Epoch 13, CIFAR-10 Batch 2:  Loss: 0.3689, Training Accuracy: 0.950000, Validation Accuracy: 0.707400\n",
      "Epoch 13, CIFAR-10 Batch 3:  Loss: 0.4049, Training Accuracy: 0.900000, Validation Accuracy: 0.693200\n",
      "Epoch 13, CIFAR-10 Batch 4:  Loss: 0.3905, Training Accuracy: 0.950000, Validation Accuracy: 0.715600\n",
      "Epoch 13, CIFAR-10 Batch 5:  Loss: 0.3957, Training Accuracy: 0.975000, Validation Accuracy: 0.712400\n",
      "Epoch 14, CIFAR-10 Batch 1:  Loss: 0.4943, Training Accuracy: 0.900000, Validation Accuracy: 0.694600\n",
      "Epoch 14, CIFAR-10 Batch 2:  Loss: 0.3590, Training Accuracy: 0.950000, Validation Accuracy: 0.718400\n",
      "Epoch 14, CIFAR-10 Batch 3:  Loss: 0.3708, Training Accuracy: 0.900000, Validation Accuracy: 0.703600\n",
      "Epoch 14, CIFAR-10 Batch 4:  Loss: 0.3617, Training Accuracy: 1.000000, Validation Accuracy: 0.724800\n",
      "Epoch 14, CIFAR-10 Batch 5:  Loss: 0.3668, Training Accuracy: 0.975000, Validation Accuracy: 0.711200\n",
      "Epoch 15, CIFAR-10 Batch 1:  Loss: 0.4661, Training Accuracy: 0.850000, Validation Accuracy: 0.713800\n",
      "Epoch 15, CIFAR-10 Batch 2:  Loss: 0.3108, Training Accuracy: 0.975000, Validation Accuracy: 0.728200\n",
      "Epoch 15, CIFAR-10 Batch 3:  Loss: 0.2948, Training Accuracy: 0.925000, Validation Accuracy: 0.713400\n",
      "Epoch 15, CIFAR-10 Batch 4:  Loss: 0.3673, Training Accuracy: 0.900000, Validation Accuracy: 0.719800\n",
      "Epoch 15, CIFAR-10 Batch 5:  Loss: 0.3248, Training Accuracy: 0.975000, Validation Accuracy: 0.733800\n",
      "Epoch 16, CIFAR-10 Batch 1:  Loss: 0.4101, Training Accuracy: 0.850000, Validation Accuracy: 0.724000\n",
      "Epoch 16, CIFAR-10 Batch 2:  Loss: 0.2852, Training Accuracy: 0.975000, Validation Accuracy: 0.727400\n",
      "Epoch 16, CIFAR-10 Batch 3:  Loss: 0.3007, Training Accuracy: 0.950000, Validation Accuracy: 0.718600\n",
      "Epoch 16, CIFAR-10 Batch 4:  Loss: 0.3225, Training Accuracy: 0.950000, Validation Accuracy: 0.732800\n",
      "Epoch 16, CIFAR-10 Batch 5:  Loss: 0.3150, Training Accuracy: 1.000000, Validation Accuracy: 0.717600\n",
      "Epoch 17, CIFAR-10 Batch 1:  Loss: 0.3947, Training Accuracy: 0.875000, Validation Accuracy: 0.712800\n",
      "Epoch 17, CIFAR-10 Batch 2:  Loss: 0.2470, Training Accuracy: 0.975000, Validation Accuracy: 0.729400\n",
      "Epoch 17, CIFAR-10 Batch 3:  Loss: 0.2506, Training Accuracy: 0.975000, Validation Accuracy: 0.729200\n",
      "Epoch 17, CIFAR-10 Batch 4:  Loss: 0.2887, Training Accuracy: 1.000000, Validation Accuracy: 0.725800\n",
      "Epoch 17, CIFAR-10 Batch 5:  Loss: 0.2830, Training Accuracy: 0.975000, Validation Accuracy: 0.738200\n",
      "Epoch 18, CIFAR-10 Batch 1:  Loss: 0.3744, Training Accuracy: 0.900000, Validation Accuracy: 0.736800\n",
      "Epoch 18, CIFAR-10 Batch 2:  Loss: 0.2419, Training Accuracy: 0.975000, Validation Accuracy: 0.721000\n",
      "Epoch 18, CIFAR-10 Batch 3:  Loss: 0.2466, Training Accuracy: 0.950000, Validation Accuracy: 0.733400\n",
      "Epoch 18, CIFAR-10 Batch 4:  Loss: 0.2551, Training Accuracy: 0.975000, Validation Accuracy: 0.737600\n",
      "Epoch 18, CIFAR-10 Batch 5:  Loss: 0.2417, Training Accuracy: 1.000000, Validation Accuracy: 0.736000\n",
      "Epoch 19, CIFAR-10 Batch 1:  Loss: 0.3398, Training Accuracy: 0.875000, Validation Accuracy: 0.725800\n",
      "Epoch 19, CIFAR-10 Batch 2:  Loss: 0.2276, Training Accuracy: 0.975000, Validation Accuracy: 0.737600\n",
      "Epoch 19, CIFAR-10 Batch 3:  Loss: 0.2270, Training Accuracy: 1.000000, Validation Accuracy: 0.720400\n",
      "Epoch 19, CIFAR-10 Batch 4:  Loss: 0.2653, Training Accuracy: 1.000000, Validation Accuracy: 0.736800\n",
      "Epoch 19, CIFAR-10 Batch 5:  Loss: 0.2364, Training Accuracy: 1.000000, Validation Accuracy: 0.733600\n",
      "Epoch 20, CIFAR-10 Batch 1:  Loss: 0.3236, Training Accuracy: 0.900000, Validation Accuracy: 0.731600\n",
      "Epoch 20, CIFAR-10 Batch 2:  Loss: 0.1934, Training Accuracy: 1.000000, Validation Accuracy: 0.746800\n",
      "Epoch 20, CIFAR-10 Batch 3:  Loss: 0.2113, Training Accuracy: 0.975000, Validation Accuracy: 0.736800\n",
      "Epoch 20, CIFAR-10 Batch 4:  Loss: 0.2333, Training Accuracy: 0.975000, Validation Accuracy: 0.738200\n",
      "Epoch 20, CIFAR-10 Batch 5:  Loss: 0.2029, Training Accuracy: 1.000000, Validation Accuracy: 0.748400\n",
      "Epoch 21, CIFAR-10 Batch 1:  Loss: 0.3058, Training Accuracy: 0.900000, Validation Accuracy: 0.749200\n",
      "Epoch 21, CIFAR-10 Batch 2:  Loss: 0.1881, Training Accuracy: 1.000000, Validation Accuracy: 0.751600\n",
      "Epoch 21, CIFAR-10 Batch 3:  Loss: 0.1928, Training Accuracy: 1.000000, Validation Accuracy: 0.737600\n",
      "Epoch 21, CIFAR-10 Batch 4:  Loss: 0.2534, Training Accuracy: 1.000000, Validation Accuracy: 0.739600\n",
      "Epoch 21, CIFAR-10 Batch 5:  Loss: 0.2068, Training Accuracy: 1.000000, Validation Accuracy: 0.752000\n",
      "Epoch 22, CIFAR-10 Batch 1:  Loss: 0.2514, Training Accuracy: 0.950000, Validation Accuracy: 0.746800\n",
      "Epoch 22, CIFAR-10 Batch 2:  Loss: 0.1800, Training Accuracy: 1.000000, Validation Accuracy: 0.741400\n",
      "Epoch 22, CIFAR-10 Batch 3:  Loss: 0.1772, Training Accuracy: 1.000000, Validation Accuracy: 0.748200\n",
      "Epoch 22, CIFAR-10 Batch 4:  Loss: 0.2139, Training Accuracy: 1.000000, Validation Accuracy: 0.747400\n",
      "Epoch 22, CIFAR-10 Batch 5:  Loss: 0.1900, Training Accuracy: 1.000000, Validation Accuracy: 0.748000\n",
      "Epoch 23, CIFAR-10 Batch 1:  Loss: 0.2630, Training Accuracy: 0.950000, Validation Accuracy: 0.752000\n",
      "Epoch 23, CIFAR-10 Batch 2:  Loss: 0.1640, Training Accuracy: 1.000000, Validation Accuracy: 0.744000\n",
      "Epoch 23, CIFAR-10 Batch 3:  Loss: 0.1857, Training Accuracy: 1.000000, Validation Accuracy: 0.754400\n",
      "Epoch 23, CIFAR-10 Batch 4:  Loss: 0.1861, Training Accuracy: 1.000000, Validation Accuracy: 0.754200\n",
      "Epoch 23, CIFAR-10 Batch 5:  Loss: 0.1736, Training Accuracy: 1.000000, Validation Accuracy: 0.748000\n",
      "Epoch 24, CIFAR-10 Batch 1:  Loss: 0.2403, Training Accuracy: 0.975000, Validation Accuracy: 0.751800\n",
      "Epoch 24, CIFAR-10 Batch 2:  Loss: 0.1601, Training Accuracy: 1.000000, Validation Accuracy: 0.754600\n",
      "Epoch 24, CIFAR-10 Batch 3:  Loss: 0.1497, Training Accuracy: 1.000000, Validation Accuracy: 0.746200\n",
      "Epoch 24, CIFAR-10 Batch 4:  Loss: 0.1637, Training Accuracy: 1.000000, Validation Accuracy: 0.753600\n",
      "Epoch 24, CIFAR-10 Batch 5:  Loss: 0.1731, Training Accuracy: 1.000000, Validation Accuracy: 0.758000\n",
      "Epoch 25, CIFAR-10 Batch 1:  Loss: 0.2258, Training Accuracy: 0.975000, Validation Accuracy: 0.761000\n",
      "Epoch 25, CIFAR-10 Batch 2:  Loss: 0.1495, Training Accuracy: 1.000000, Validation Accuracy: 0.731000\n",
      "Epoch 25, CIFAR-10 Batch 3:  Loss: 0.1539, Training Accuracy: 1.000000, Validation Accuracy: 0.749800\n",
      "Epoch 25, CIFAR-10 Batch 4:  Loss: 0.1953, Training Accuracy: 1.000000, Validation Accuracy: 0.757000\n",
      "Epoch 25, CIFAR-10 Batch 5:  Loss: 0.1525, Training Accuracy: 1.000000, Validation Accuracy: 0.764000\n",
      "Epoch 26, CIFAR-10 Batch 1:  Loss: 0.2102, Training Accuracy: 0.975000, Validation Accuracy: 0.762600\n",
      "Epoch 26, CIFAR-10 Batch 2:  Loss: 0.1168, Training Accuracy: 1.000000, Validation Accuracy: 0.759600\n",
      "Epoch 26, CIFAR-10 Batch 3:  Loss: 0.1377, Training Accuracy: 1.000000, Validation Accuracy: 0.746400\n",
      "Epoch 26, CIFAR-10 Batch 4:  Loss: 0.1578, Training Accuracy: 1.000000, Validation Accuracy: 0.762200\n",
      "Epoch 26, CIFAR-10 Batch 5:  Loss: 0.1398, Training Accuracy: 1.000000, Validation Accuracy: 0.758600\n",
      "Epoch 27, CIFAR-10 Batch 1:  Loss: 0.2001, Training Accuracy: 0.975000, Validation Accuracy: 0.762400\n",
      "Epoch 27, CIFAR-10 Batch 2:  Loss: 0.1294, Training Accuracy: 1.000000, Validation Accuracy: 0.762000\n",
      "Epoch 27, CIFAR-10 Batch 3:  Loss: 0.1317, Training Accuracy: 1.000000, Validation Accuracy: 0.746200\n",
      "Epoch 27, CIFAR-10 Batch 4:  Loss: 0.1374, Training Accuracy: 1.000000, Validation Accuracy: 0.762000\n",
      "Epoch 27, CIFAR-10 Batch 5:  Loss: 0.1434, Training Accuracy: 1.000000, Validation Accuracy: 0.764600\n",
      "Epoch 28, CIFAR-10 Batch 1:  Loss: 0.2018, Training Accuracy: 0.975000, Validation Accuracy: 0.755200\n",
      "Epoch 28, CIFAR-10 Batch 2:  Loss: 0.1205, Training Accuracy: 1.000000, Validation Accuracy: 0.765000\n",
      "Epoch 28, CIFAR-10 Batch 3:  Loss: 0.1249, Training Accuracy: 1.000000, Validation Accuracy: 0.757600\n",
      "Epoch 28, CIFAR-10 Batch 4:  Loss: 0.1577, Training Accuracy: 1.000000, Validation Accuracy: 0.750000\n",
      "Epoch 28, CIFAR-10 Batch 5:  Loss: 0.1203, Training Accuracy: 1.000000, Validation Accuracy: 0.762600\n",
      "Epoch 29, CIFAR-10 Batch 1:  Loss: 0.1678, Training Accuracy: 0.975000, Validation Accuracy: 0.764400\n",
      "Epoch 29, CIFAR-10 Batch 2:  Loss: 0.1232, Training Accuracy: 0.975000, Validation Accuracy: 0.754400\n",
      "Epoch 29, CIFAR-10 Batch 3:  Loss: 0.1196, Training Accuracy: 1.000000, Validation Accuracy: 0.758400\n",
      "Epoch 29, CIFAR-10 Batch 4:  Loss: 0.1293, Training Accuracy: 1.000000, Validation Accuracy: 0.760000\n",
      "Epoch 29, CIFAR-10 Batch 5:  Loss: 0.1380, Training Accuracy: 1.000000, Validation Accuracy: 0.765400\n",
      "Epoch 30, CIFAR-10 Batch 1:  Loss: 0.1852, Training Accuracy: 0.975000, Validation Accuracy: 0.769800\n",
      "Epoch 30, CIFAR-10 Batch 2:  Loss: 0.1069, Training Accuracy: 0.975000, Validation Accuracy: 0.772000\n",
      "Epoch 30, CIFAR-10 Batch 3:  Loss: 0.1086, Training Accuracy: 1.000000, Validation Accuracy: 0.760400\n",
      "Epoch 30, CIFAR-10 Batch 4:  Loss: 0.1079, Training Accuracy: 1.000000, Validation Accuracy: 0.769400\n",
      "Epoch 30, CIFAR-10 Batch 5:  Loss: 0.1220, Training Accuracy: 1.000000, Validation Accuracy: 0.772000\n",
      "Epoch 31, CIFAR-10 Batch 1:  Loss: 0.1784, Training Accuracy: 0.975000, Validation Accuracy: 0.756800\n",
      "Epoch 31, CIFAR-10 Batch 2:  Loss: 0.1140, Training Accuracy: 1.000000, Validation Accuracy: 0.761200\n",
      "Epoch 31, CIFAR-10 Batch 3:  Loss: 0.0978, Training Accuracy: 1.000000, Validation Accuracy: 0.757600\n",
      "Epoch 31, CIFAR-10 Batch 4:  Loss: 0.1245, Training Accuracy: 1.000000, Validation Accuracy: 0.768800\n",
      "Epoch 31, CIFAR-10 Batch 5:  Loss: 0.1105, Training Accuracy: 1.000000, Validation Accuracy: 0.774200\n",
      "Epoch 32, CIFAR-10 Batch 1:  Loss: 0.1533, Training Accuracy: 0.975000, Validation Accuracy: 0.766400\n",
      "Epoch 32, CIFAR-10 Batch 2:  Loss: 0.1065, Training Accuracy: 1.000000, Validation Accuracy: 0.767800\n",
      "Epoch 32, CIFAR-10 Batch 3:  Loss: 0.0961, Training Accuracy: 1.000000, Validation Accuracy: 0.764200\n",
      "Epoch 32, CIFAR-10 Batch 4:  Loss: 0.1167, Training Accuracy: 1.000000, Validation Accuracy: 0.771000\n",
      "Epoch 32, CIFAR-10 Batch 5:  Loss: 0.1234, Training Accuracy: 1.000000, Validation Accuracy: 0.770200\n"
     ]
    }
   ],
   "source": [
    "\"\"\"\n",
    "DON'T MODIFY ANYTHING IN THIS CELL\n",
    "\"\"\"\n",
    "save_model_path = './image_classification'\n",
    "\n",
    "print('Training...')\n",
    "with tf.Session() as sess:\n",
    "    # Initializing the variables\n",
    "    sess.run(tf.global_variables_initializer())\n",
    "    \n",
    "    # Training cycle\n",
    "    for epoch in range(epochs):\n",
    "        # Loop over all batches\n",
    "        n_batches = 5\n",
    "        for batch_i in range(1, n_batches + 1):\n",
    "            for batch_features, batch_labels in helper.load_preprocess_training_batch(batch_i, batch_size):\n",
    "                train_neural_network(sess, optimizer, keep_probability, batch_features, batch_labels)\n",
    "            print('Epoch {:>2}, CIFAR-10 Batch {}:  '.format(epoch + 1, batch_i), end='')\n",
    "            print_stats(sess, batch_features, batch_labels, cost, accuracy)\n",
    "            \n",
    "    # Save Model\n",
    "    saver = tf.train.Saver()\n",
    "    save_path = saver.save(sess, save_model_path)"
   ]
  },
  {
   "cell_type": "markdown",
   "metadata": {
    "deletable": true,
    "editable": true
   },
   "source": [
    "# Checkpoint\n",
    "The model has been saved to disk.\n",
    "## Test Model\n",
    "Test your model against the test dataset.  This will be your final accuracy. You should have an accuracy greater than 50%. If you don't, keep tweaking the model architecture and parameters."
   ]
  },
  {
   "cell_type": "code",
   "execution_count": 20,
   "metadata": {
    "collapsed": false,
    "deletable": true,
    "editable": true
   },
   "outputs": [
    {
     "name": "stdout",
     "output_type": "stream",
     "text": [
      "Testing Accuracy: 0.76083984375\n",
      "\n"
     ]
    },
    {
     "data": {
      "image/png": "[encoded data removed]",
      "text/plain": [
       "<matplotlib.figure.Figure at 0x12705ab38>"
      ]
     },
     "metadata": {
      "image/png": {
       "height": 319,
       "width": 355
      }
     },
     "output_type": "display_data"
    }
   ],
   "source": [
    "\"\"\"\n",
    "DON'T MODIFY ANYTHING IN THIS CELL\n",
    "\"\"\"\n",
    "%matplotlib inline\n",
    "%config InlineBackend.figure_format = 'retina'\n",
    "\n",
    "import tensorflow as tf\n",
    "import pickle\n",
    "import helper\n",
    "import random\n",
    "\n",
    "# Set batch size if not already set\n",
    "try:\n",
    "    if batch_size:\n",
    "        pass\n",
    "except NameError:\n",
    "    batch_size = 64\n",
    "\n",
    "save_model_path = './image_classification'\n",
    "n_samples = 4\n",
    "top_n_predictions = 3\n",
    "\n",
    "def test_model():\n",
    "    \"\"\"\n",
    "    Test the saved model against the test dataset\n",
    "    \"\"\"\n",
    "\n",
    "    test_features, test_labels = pickle.load(open('preprocess_test.p', mode='rb'))\n",
    "    loaded_graph = tf.Graph()\n",
    "\n",
    "    with tf.Session(graph=loaded_graph) as sess:\n",
    "        # Load model\n",
    "        loader = tf.train.import_meta_graph(save_model_path + '.meta')\n",
    "        loader.restore(sess, save_model_path)\n",
    "\n",
    "        # Get Tensors from loaded model\n",
    "        loaded_x = loaded_graph.get_tensor_by_name('x:0')\n",
    "        loaded_y = loaded_graph.get_tensor_by_name('y:0')\n",
    "        loaded_keep_prob = loaded_graph.get_tensor_by_name('keep_prob:0')\n",
    "        loaded_logits = loaded_graph.get_tensor_by_name('logits:0')\n",
    "        loaded_acc = loaded_graph.get_tensor_by_name('accuracy:0')\n",
    "        \n",
    "        # Get accuracy in batches for memory limitations\n",
    "        test_batch_acc_total = 0\n",
    "        test_batch_count = 0\n",
    "        \n",
    "        for test_feature_batch, test_label_batch in helper.batch_features_labels(test_features, test_labels, batch_size):\n",
    "            test_batch_acc_total += sess.run(\n",
    "                loaded_acc,\n",
    "                feed_dict={loaded_x: test_feature_batch, loaded_y: test_label_batch, loaded_keep_prob: 1.0})\n",
    "            test_batch_count += 1\n",
    "\n",
    "        print('Testing Accuracy: {}\\n'.format(test_batch_acc_total/test_batch_count))\n",
    "\n",
    "        # Print Random Samples\n",
    "        random_test_features, random_test_labels = tuple(zip(*random.sample(list(zip(test_features, test_labels)), n_samples)))\n",
    "        random_test_predictions = sess.run(\n",
    "            tf.nn.top_k(tf.nn.softmax(loaded_logits), top_n_predictions),\n",
    "            feed_dict={loaded_x: random_test_features, loaded_y: random_test_labels, loaded_keep_prob: 1.0})\n",
    "        helper.display_image_predictions(random_test_features, random_test_labels, random_test_predictions)\n",
    "\n",
    "\n",
    "test_model()"
   ]
  },
  {
   "cell_type": "markdown",
   "metadata": {
    "deletable": true,
    "editable": true
   },
   "source": [
    "## Why 50-80% Accuracy?\n",
    "You might be wondering why you can't get an accuracy any higher. First things first, 50% isn't bad for a simple CNN.  Pure guessing would get you 10% accuracy. However, you might notice people are getting scores [well above 80%](http://rodrigob.github.io/are_we_there_yet/build/classification_datasets_results.html#43494641522d3130).  That's because we haven't taught you all there is to know about neural networks. We still need to cover a few more techniques.\n",
    "## Submitting This Project\n",
    "When submitting this project, make sure to run all the cells before saving the notebook.  Save the notebook file as \"dlnd_image_classification.ipynb\" and save it as a HTML file under \"File\" -> \"Download as\".  Include the \"helper.py\" and \"problem_unittests.py\" files in your submission."
   ]
  }
 ],
 "metadata": {
  "kernelspec": {
   "display_name": "Python 3",
   "language": "python",
   "name": "python3"
  },
  "language_info": {
   "codemirror_mode": {
    "name": "ipython",
    "version": 3
   },
   "file_extension": ".py",
   "mimetype": "text/x-python",
   "name": "python",
   "nbconvert_exporter": "python",
   "pygments_lexer": "ipython3",
   "version": "3.6.1"
  }
 },
 "nbformat": 4,
 "nbformat_minor": 0
}
